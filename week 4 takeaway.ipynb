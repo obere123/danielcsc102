{
 "cells": [
  {
   "cell_type": "markdown",
   "metadata": {},
   "source": [
    "#### INPUT names of boys\n",
    "#### INPUT correspoding ages\n",
    "#### INPUT corresponding scores\n",
    "#### PRINT generated table\n",
    "#### INPUT names of girls\n",
    "#### INPUT correspoding ages\n",
    "#### INPUT corresponding scores\n",
    "#### PRINT generated table"
   ]
  },
  {
   "cell_type": "code",
   "execution_count": 1,
   "metadata": {
    "scrolled": true
   },
   "outputs": [
    {
     "name": "stdout",
     "output_type": "stream",
     "text": [
      "    names  age  height  scores\n",
      "  Charles   15     5.7      85\n",
      "     Jude   16     5.9      74\n",
      "    James   16     5.8      87\n",
      "   Kelvin   17     6.1      75\n",
      "  Prosper   14     5.9      68\n",
      "      names  ages  height  scores\n",
      "        Ann    14     5.5      80\n",
      "       Jane    16     6.0      85\n",
      "     Joanne    14     5.4      70\n",
      "      Clare    17     5.9      60\n",
      "  Elizabeth    16     5.6      76\n",
      "DataFrame is written to Excel File successfully.\n"
     ]
    }
   ],
   "source": [
    "import pandas as pd\n",
    "boys= {\n",
    "    \"names\": [\"Charles\",\"Jude\",\"James\",\"Kelvin\",\"Prosper\"],\n",
    "    \"age\" : [15,16,16,17,14],\n",
    "    \"height\":[5.7,5.9,5.8,6.1,5.9],\n",
    "    \"scores\":[85,74,87,75,68]\n",
    "}\n",
    "girls= {\n",
    "    \"names\": [\"Ann\",\"Jane\",\"Joanne\",\"Clare\",\"Elizabeth\"],\n",
    "     \"ages\": [14,16,14,17,16],\n",
    "    \"height\": [5.5,6,5.4,5.9,5.6],\n",
    "    \"scores\" : [80,85,70,60,76]\n",
    "}\n",
    "boysoutput=pd.DataFrame(boys,index=[\"\",\"\",\"\",\"\",\"\"])\n",
    "girlsoutput=pd.DataFrame(girls,index=[\"\",\"\",\"\",\"\",\"\"])\n",
    "print(boysoutput)\n",
    "print(girlsoutput)\n",
    "#boysoutput.to_excel(C:\\Users\\danob\\Desktop\\danielcsc102\\pythonass.xlsx)\n",
    "# determining the name of the file\n",
    "file_name = 'pythonass.xlsx'\n",
    "  \n",
    "# saving the excel\n",
    "boysoutput.to_excel(file_name)\n",
    "girlsoutput.to_excel(file_name)\n",
    "print('DataFrame is written to Excel File successfully.')\n"
   ]
  },
  {
   "cell_type": "code",
   "execution_count": null,
   "metadata": {},
   "outputs": [],
   "source": []
  },
  {
   "cell_type": "code",
   "execution_count": 22,
   "metadata": {},
   "outputs": [
    {
     "name": "stdout",
     "output_type": "stream",
     "text": [
      "   calories  duration\n",
      "0       420        50\n",
      "1       380        40\n",
      "2       390        45\n"
     ]
    }
   ],
   "source": [
    "import pandas \n",
    "\n",
    "data = {\n",
    "  \"calories\": [420, 380, 390],\n",
    "  \"duration\": [50, 40, 45]\n",
    "}\n",
    "\n",
    "#load data into a DataFrame object:\n",
    "df = pandas.DataFrame(data)\n",
    "\n",
    "print(df) \n"
   ]
  },
  {
   "cell_type": "code",
   "execution_count": null,
   "metadata": {},
   "outputs": [],
   "source": []
  }
 ],
 "metadata": {
  "kernelspec": {
   "display_name": "Python 3",
   "language": "python",
   "name": "python3"
  },
  "language_info": {
   "codemirror_mode": {
    "name": "ipython",
    "version": 3
   },
   "file_extension": ".py",
   "mimetype": "text/x-python",
   "name": "python",
   "nbconvert_exporter": "python",
   "pygments_lexer": "ipython3",
   "version": "3.8.3"
  }
 },
 "nbformat": 4,
 "nbformat_minor": 4
}
