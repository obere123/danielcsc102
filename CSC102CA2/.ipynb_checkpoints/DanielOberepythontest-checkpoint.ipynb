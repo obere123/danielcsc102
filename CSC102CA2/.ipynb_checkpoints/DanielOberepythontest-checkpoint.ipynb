{
 "cells": [
  {
   "cell_type": "code",
   "execution_count": 2,
   "metadata": {},
   "outputs": [
    {
     "name": "stdout",
     "output_type": "stream",
     "text": [
      "What is your name, valued customer?  Daniel\n",
      "                        menu  Price(N)\n",
      "1  Poundo Yam/EdinKaiko Soup      5500\n",
      "2       Fried Rice & Chicken      6000\n",
      "3         Amala & Ewedu Soup      4500\n",
      "4           Eba & Egusi Soup      4000\n",
      "5        White Rice and Stew      4500\n",
      "Enter the number of beside item of purchase, enter 0 when true with ordering 2\n",
      "Thankyou for shopping hereDaniel\n",
      "The price of everything you have bought is 600.0\n",
      "Enter the number of beside item of purchase, enter 0 when true with ordering 0\n",
      "Invalid input. Please try again.\n",
      "Thankyou for shopping hereDaniel\n",
      "The price of everything you have bought is 60.0\n"
     ]
    }
   ],
   "source": [
    "import pandas\n",
    "customername=str(input(\"What is your name, valued customer?  \"))\n",
    "Foodtable={\n",
    "    'menu':[\"Poundo Yam/EdinKaiko Soup\",\"Fried Rice & Chicken\",\"Amala & Ewedu Soup\",\"Eba & Egusi Soup\",\"White Rice and Stew\"],\n",
    "    \"Price(N)\":[5500,6000,4500,4000,4500]\n",
    "}\n",
    "foodtableoutput=pandas.DataFrame(Foodtable,index=[1,2,3,4,5])\n",
    "print(foodtableoutput)\n",
    "asking=\"\"\n",
    "price=0\n",
    "\n",
    "while asking !=0:\n",
    "    \n",
    "    asking=int(input(\"Enter the number of beside item of purchase, enter 0 when true with ordering \"))\n",
    "    if asking==1:\n",
    "        price=price + 5500\n",
    "    elif asking==2:\n",
    "        price= price + 6000\n",
    "    elif asking==3:\n",
    "        price= price + 4500\n",
    "    elif asking==4:\n",
    "        price=price + 4000\n",
    "    elif asking==5:\n",
    "        price= price + 4500\n",
    "   \n",
    "    else:\n",
    "        print(\"Invalid input. Please try again.\")\n",
    "    if price <10000:\n",
    "        price=price * 0.1\n",
    "    elif 10000< price < 150000:\n",
    "        price=price*0.15\n",
    "    elif price>15000:\n",
    "        price=price *0.25\n",
    "    else:\n",
    "        pass\n",
    "        \n",
    "    print(\"Thankyou for shopping here  \"+customername+\"\")\n",
    "    print(\"The price of everything you have bought is\",price,)\n",
    " \n",
    "        \n",
    "        \n",
    "\n"
   ]
  },
  {
   "cell_type": "markdown",
   "metadata": {},
   "source": [
    "#### INPUT name of customer\n",
    "#### INPUT price of items\n",
    "#### SUM price of items\n",
    "#### If SUM <10000 \n",
    "#### Print(The price is (SUM* 10%)\n",
    "#### If 10000< SUM<15000\n",
    "#### Print(The price is (SUM* 15%)\n",
    "#### If SUM >15000\n",
    "#### Print(The price is (SUM*25%)\n"
   ]
  },
  {
   "cell_type": "code",
   "execution_count": 1,
   "metadata": {},
   "outputs": [
    {
     "name": "stdout",
     "output_type": "stream",
     "text": [
      "  S/N           name  years  Assessment records  Point  Reward\n",
      "    1    Alegbe Luis      5                44.5      2  14.833\n",
      "    2    Anna Mabuta     10                67.4      4  44.933\n",
      "    3     Karim Kafi     15                23.8      1   3.966\n",
      "    4   Esther Moses      8                71.1      5  59.250\n",
      "    5    Jonah Longe      4                50.3      3  25.150\n",
      "    6  Coins Fagbemi     20                60.3      4  40.200\n"
     ]
    }
   ],
   "source": [
    "import pandas\n",
    "data={ \"S/N\":[1,2,3,4,5,6],\n",
    "    \"name\":[\"Alegbe Luis\",\"Anna Mabuta\",\"Karim Kafi\",\"Esther Moses\",\"Jonah Longe\",\"Coins Fagbemi\"],\n",
    "      \"years\":[5,10,15,8,4,20],\n",
    "      \"Assessment records\":[44.5,67.4,23.8,71.1,50.3,60.3],\n",
    "      \"Point\":[2,4,1,5,3,4],\n",
    "      \"Reward\":[14.833,44.933,3.966,59.25,25.15,40.2]\n",
    "}\n",
    "dataoutput=pandas.DataFrame(data,index=[\"\",\"\",\"\",\"\",\"\",\"\"])\n",
    "print(dataoutput)\n",
    "dataoutput.to_excel(\"CSC102CA2.xlsx\")\n"
   ]
  },
  {
   "cell_type": "code",
   "execution_count": null,
   "metadata": {},
   "outputs": [],
   "source": []
  },
  {
   "cell_type": "code",
   "execution_count": null,
   "metadata": {},
   "outputs": [],
   "source": []
  }
 ],
 "metadata": {
  "kernelspec": {
   "display_name": "Python 3",
   "language": "python",
   "name": "python3"
  },
  "language_info": {
   "codemirror_mode": {
    "name": "ipython",
    "version": 3
   },
   "file_extension": ".py",
   "mimetype": "text/x-python",
   "name": "python",
   "nbconvert_exporter": "python",
   "pygments_lexer": "ipython3",
   "version": "3.8.3"
  }
 },
 "nbformat": 4,
 "nbformat_minor": 4
}
