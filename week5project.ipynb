{
 "cells": [
  {
   "cell_type": "code",
   "execution_count": null,
   "metadata": {},
   "outputs": [],
   "source": [
    "def avoids():\n",
    "    rejectedstring=str(input(\"Enter in the letters\"))\n",
    "    for letter in reject:\n",
    "        \n",
    "        "
   ]
  },
  {
   "cell_type": "code",
   "execution_count": 2,
   "metadata": {},
   "outputs": [
    {
     "name": "stdout",
     "output_type": "stream",
     "text": [
      "Enter the word:  Raeiou\n",
      "True\n"
     ]
    }
   ],
   "source": [
    "def uses_all():\n",
    "    word=input(\"Enter the word:  \")\n",
    "    required=\"aeiou\"\n",
    "    if required in word:\n",
    "        print(True)\n",
    "    else:\n",
    "        print(False)\n",
    "uses_all()"
   ]
  },
  {
   "cell_type": "code",
   "execution_count": 51,
   "metadata": {},
   "outputs": [
    {
     "name": "stdout",
     "output_type": "stream",
     "text": [
      "Enter in the number,Jane:   12\n",
      "Enter in your number, Jack:   15\n",
      "Enter your guess, Jane,odd or even:  odd\n",
      "Enter your guess,Jack, odd or even:  even\n",
      "Jane wins!\n"
     ]
    }
   ],
   "source": [
    "Jane=int(input(\"Enter in the number,Jane:   \"))\n",
    "Jack=int(input(\"Enter in your number, Jack:   \"))\n",
    "sum=(Jane + Jack)\n",
    "def function():\n",
    "    janeguess=input(\"Enter your guess, Jane,odd or even:  \")\n",
    "    jackguess=input(\"Enter your guess,Jack, odd or even:  \")\n",
    "summodulo= sum % 2\n",
    "\n",
    "if summodulo==1:\n",
    "    function()\n",
    "    \n",
    "    if janeguess==\"odd\" and jackguess== \"odd\":\n",
    "        print(\"Jane and Jack win\")\n",
    "    elif janeguess== \"odd\" and jackguess == \"even\":\n",
    "        \n",
    "            print(\"Jane wins!\")\n",
    "    elif janeguess==\"even\" and jackguess==\"odd\":\n",
    "        \n",
    "            print(\"Jack wins\")\n",
    "    elif janeguess==\"even\" and jackguess==\"odd\":\n",
    "        print(\"No one wins\")\n",
    "    else:\n",
    "        print(\"Error\")\n",
    "elif summodulo==0:\n",
    "    function()\n",
    "    guess=\"even\"\n",
    "    if janeguess==\"even\" and jackguess== even:\n",
    "        print(\"Jane and Jack win\")\n",
    "    elif janeguess== \"even\" and jackguess == \"odd\":\n",
    "        \n",
    "            print(\"Jane wins!\")\n",
    "    elif janeguess== \"odd\" and jackguess==\"even\":\n",
    "        \n",
    "            print(\"Jack wins\")\n",
    "    elif janeguess== \"odd\" and jackguess==\"odd\":\n",
    "        print(\"No one wins\")\n",
    "    else:\n",
    "        print(\"Error\")\n",
    "else:\n",
    "    print(\"Invalid syntax\")\n"
   ]
  },
  {
   "cell_type": "code",
   "execution_count": 52,
   "metadata": {},
   "outputs": [
    {
     "name": "stdout",
     "output_type": "stream",
     "text": [
      "The speed of the car is 25.0\n"
     ]
    }
   ],
   "source": [
    "d=50\n",
    "t=2\n",
    "speed=(d/t)\n",
    "print(\"The speed of the car is\",speed)"
   ]
  },
  {
   "cell_type": "code",
   "execution_count": null,
   "metadata": {},
   "outputs": [],
   "source": []
  }
 ],
 "metadata": {
  "kernelspec": {
   "display_name": "Python 3",
   "language": "python",
   "name": "python3"
  },
  "language_info": {
   "codemirror_mode": {
    "name": "ipython",
    "version": 3
   },
   "file_extension": ".py",
   "mimetype": "text/x-python",
   "name": "python",
   "nbconvert_exporter": "python",
   "pygments_lexer": "ipython3",
   "version": "3.8.3"
  }
 },
 "nbformat": 4,
 "nbformat_minor": 4
}
