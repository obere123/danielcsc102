{
 "cells": [
  {
   "cell_type": "code",
   "execution_count": 22,
   "metadata": {},
   "outputs": [
    {
     "name": "stdout",
     "output_type": "stream",
     "text": [
      "Enter in csc201 score :   10\n",
      "Enter in  csc205 score:  10\n",
      "Enter in sta205 score:   10\n",
      "The total score is 30\n",
      "The average score is 10.00\n"
     ]
    }
   ],
   "source": [
    "class grades:\n",
    "    def __init__(self,csc201,csc205,sta205):\n",
    "        self.csc201=csc201\n",
    "        self.csc205=csc205\n",
    "        self.sta205=sta205\n",
    "        \n",
    "class Total(grades):\n",
    "    def __init__(self,csc201,csc205,sta205):\n",
    "        grades.__init__(self,csc201,csc205,sta205)\n",
    "        \n",
    "    def total(self):\n",
    "        self.total = total\n",
    "        self.total=csc201+csc205+sta205\n",
    "        print(\"The total score is\",(self.total))\n",
    "\n",
    "    def averagecalc(self,total):\n",
    "        self.total = total\n",
    "        average=self.total/3\n",
    "        print(\"The average score is\",\"%.2f\" % average)\n",
    "        \n",
    "csc201=int(input(\"Enter in csc201 score :   \"))\n",
    "csc205=int(input(\"Enter in  csc205 score:  \"))\n",
    "sta205=int(input(\"Enter in sta205 score:   \"))\n",
    "\n",
    "totalobj=Total(csc201,csc205,sta205)\n",
    "totalobj.total()\n",
    "averageobj=Total(csc201,csc205,sta205)\n",
    "averageobj.averagecalc(csc201+csc205+sta205)"
   ]
  },
  {
   "cell_type": "code",
   "execution_count": 23,
   "metadata": {},
   "outputs": [
    {
     "name": "stdout",
     "output_type": "stream",
     "text": [
      "<class 'int'>\n"
     ]
    }
   ],
   "source": [
    "print(type(3))"
   ]
  },
  {
   "cell_type": "code",
   "execution_count": 34,
   "metadata": {},
   "outputs": [
    {
     "ename": "TypeError",
     "evalue": "'float' object is not subscriptable",
     "output_type": "error",
     "traceback": [
      "\u001b[1;31m---------------------------------------------------------------------------\u001b[0m",
      "\u001b[1;31mTypeError\u001b[0m                                 Traceback (most recent call last)",
      "\u001b[1;32m<ipython-input-34-cce244617613>\u001b[0m in \u001b[0;36m<module>\u001b[1;34m\u001b[0m\n\u001b[0;32m     15\u001b[0m         \u001b[0mprint\u001b[0m\u001b[1;33m(\u001b[0m\u001b[1;34m\"The total score is\"\u001b[0m\u001b[1;33m,\u001b[0m\u001b[0mstr\u001b[0m\u001b[1;33m(\u001b[0m\u001b[0mself\u001b[0m\u001b[1;33m.\u001b[0m\u001b[0mtotal\u001b[0m\u001b[1;33m)\u001b[0m\u001b[1;33m)\u001b[0m\u001b[1;33m\u001b[0m\u001b[1;33m\u001b[0m\u001b[0m\n\u001b[0;32m     16\u001b[0m \u001b[1;33m\u001b[0m\u001b[0m\n\u001b[1;32m---> 17\u001b[1;33m \u001b[1;32mclass\u001b[0m \u001b[0mAverage\u001b[0m\u001b[1;33m(\u001b[0m\u001b[0mTotal\u001b[0m\u001b[1;33m)\u001b[0m\u001b[1;33m:\u001b[0m\u001b[1;33m\u001b[0m\u001b[1;33m\u001b[0m\u001b[0m\n\u001b[0m\u001b[0;32m     18\u001b[0m     \u001b[0mtotal\u001b[0m\u001b[1;33m=\u001b[0m\u001b[0mtotal\u001b[0m\u001b[1;33m[\u001b[0m\u001b[0mTotal\u001b[0m\u001b[1;33m]\u001b[0m\u001b[1;33m\u001b[0m\u001b[1;33m\u001b[0m\u001b[0m\n\u001b[0;32m     19\u001b[0m     \u001b[1;32mdef\u001b[0m \u001b[0m__init__\u001b[0m\u001b[1;33m(\u001b[0m\u001b[0mself\u001b[0m\u001b[1;33m,\u001b[0m\u001b[0mcsc201\u001b[0m\u001b[1;33m,\u001b[0m\u001b[0mcsc205\u001b[0m\u001b[1;33m,\u001b[0m\u001b[0msta205\u001b[0m\u001b[1;33m)\u001b[0m\u001b[1;33m:\u001b[0m\u001b[1;33m\u001b[0m\u001b[1;33m\u001b[0m\u001b[0m\n",
      "\u001b[1;32m<ipython-input-34-cce244617613>\u001b[0m in \u001b[0;36mAverage\u001b[1;34m()\u001b[0m\n\u001b[0;32m     16\u001b[0m \u001b[1;33m\u001b[0m\u001b[0m\n\u001b[0;32m     17\u001b[0m \u001b[1;32mclass\u001b[0m \u001b[0mAverage\u001b[0m\u001b[1;33m(\u001b[0m\u001b[0mTotal\u001b[0m\u001b[1;33m)\u001b[0m\u001b[1;33m:\u001b[0m\u001b[1;33m\u001b[0m\u001b[1;33m\u001b[0m\u001b[0m\n\u001b[1;32m---> 18\u001b[1;33m     \u001b[0mtotal\u001b[0m\u001b[1;33m=\u001b[0m\u001b[0mtotal\u001b[0m\u001b[1;33m[\u001b[0m\u001b[0mTotal\u001b[0m\u001b[1;33m]\u001b[0m\u001b[1;33m\u001b[0m\u001b[1;33m\u001b[0m\u001b[0m\n\u001b[0m\u001b[0;32m     19\u001b[0m     \u001b[1;32mdef\u001b[0m \u001b[0m__init__\u001b[0m\u001b[1;33m(\u001b[0m\u001b[0mself\u001b[0m\u001b[1;33m,\u001b[0m\u001b[0mcsc201\u001b[0m\u001b[1;33m,\u001b[0m\u001b[0mcsc205\u001b[0m\u001b[1;33m,\u001b[0m\u001b[0msta205\u001b[0m\u001b[1;33m)\u001b[0m\u001b[1;33m:\u001b[0m\u001b[1;33m\u001b[0m\u001b[1;33m\u001b[0m\u001b[0m\n\u001b[0;32m     20\u001b[0m         \u001b[0mTotal\u001b[0m\u001b[1;33m.\u001b[0m\u001b[0m__init__\u001b[0m\u001b[1;33m(\u001b[0m\u001b[0mself\u001b[0m\u001b[1;33m,\u001b[0m\u001b[0mcsc201\u001b[0m\u001b[1;33m,\u001b[0m\u001b[0mcsc205\u001b[0m\u001b[1;33m,\u001b[0m\u001b[0msta205\u001b[0m\u001b[1;33m)\u001b[0m\u001b[1;33m\u001b[0m\u001b[1;33m\u001b[0m\u001b[0m\n",
      "\u001b[1;31mTypeError\u001b[0m: 'float' object is not subscriptable"
     ]
    }
   ],
   "source": [
    "class grades:\n",
    "    total=float()\n",
    "    average=float()\n",
    "    def __init__(self,csc201,csc205,sta205):\n",
    "        self.csc201=csc201\n",
    "        self.csc205=csc205\n",
    "        self.sta205=sta205\n",
    "        \n",
    "class Total(grades):\n",
    "    def __init__(self,csc201,csc205,sta205):\n",
    "        grades.__init__(self,csc201,csc205,sta205)\n",
    "\n",
    "    def total(self):\n",
    "        self.total=self.csc201+self.csc205+self.sta205\n",
    "        print(\"The total score is\",str(self.total))\n",
    "\n",
    "class Average(Total):\n",
    "    total=total[Total]\n",
    "    def __init__(self,csc201,csc205,sta205):\n",
    "        Total.__init__(self,csc201,csc205,sta205)\n",
    "    def average(self):\n",
    "        self.average=float(self.total)/3\n",
    "        print(\"the total score is \",self.average)\n",
    "        \n",
    "\n",
    "        \n",
    "csc201= int(input(\"Enter in csc201 score :   \"))\n",
    "csc205=  int(input(\"Enter in  csc205 score:  \"))\n",
    "sta205= int(input(\"Enter in sta205 score:   \"))\n",
    "totalobj=Total(csc201,csc205,sta205)\n",
    "totalobj.total()\n",
    "averageobj=Average(csc201,csc205,sta205)\n",
    "averageobj.average()"
   ]
  },
  {
   "cell_type": "code",
   "execution_count": 35,
   "metadata": {},
   "outputs": [
    {
     "name": "stdout",
     "output_type": "stream",
     "text": [
      "0\n",
      "1\n",
      "2\n",
      "3\n",
      "4\n",
      "Loop is over\n"
     ]
    }
   ],
   "source": [
    "num=0\n",
    "while num<5:\n",
    "    print(num)\n",
    "    num+=1\n",
    "print(\"Loop is over\")"
   ]
  },
  {
   "cell_type": "code",
   "execution_count": null,
   "metadata": {},
   "outputs": [],
   "source": []
  }
 ],
 "metadata": {
  "kernelspec": {
   "display_name": "Python 3",
   "language": "python",
   "name": "python3"
  },
  "language_info": {
   "codemirror_mode": {
    "name": "ipython",
    "version": 3
   },
   "file_extension": ".py",
   "mimetype": "text/x-python",
   "name": "python",
   "nbconvert_exporter": "python",
   "pygments_lexer": "ipython3",
   "version": "3.8.3"
  }
 },
 "nbformat": 4,
 "nbformat_minor": 4
}
