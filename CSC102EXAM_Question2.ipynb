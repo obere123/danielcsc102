{
 "cells": [
  {
   "cell_type": "code",
   "execution_count": 1,
   "metadata": {},
   "outputs": [
    {
     "name": "stdout",
     "output_type": "stream",
     "text": [
      "Enter in your name:   Daniel\n",
      "Enter in your level:  100\n",
      "Enter in your course:  Computer Science\n"
     ]
    }
   ],
   "source": [
    "import pandas as pd\n",
    "x=pd.read_csv(\"departments.csv\")\n",
    "\n",
    "class Student:\n",
    "    import pandas as pd\n",
    "    x=pd.read_csv(\"departments.csv\")\n",
    "    def __init__(self,name,level,course):\n",
    "        self.name=name\n",
    "        self.level=level\n",
    "        self.course=course\n",
    "class Engineering(Student):\n",
    "    import pandas as pd\n",
    "    x=pd.read_csv(\"departments.csv\")\n",
    "    def __init__(self,name,level,course):\n",
    "        Student.__init__(self,name,level,course)\n",
    "    def display(self):\n",
    "        if self.level==100 and (self.course==\"Mechanical Engineering\" or \"Electrical Engineering\") :\n",
    "            print(\"Your courses are showed below\",self.name)\n",
    "            (x[\"Mechanical /Electrical Engineering Degree Programme\"])\n",
    "\n",
    "class Computer(Student): #Inheritance of Computer class from Student\n",
    "    import pandas as pd\n",
    "    x=pd.read_csv(\"departments.csv\")\n",
    "    def __init__(self,name,level,course):\n",
    "        Student.__init__(self,name,level,course)\n",
    "    def display(self): #Polymorphism\n",
    "        if self.level==100 and self.course==\"Computer Science\":\n",
    "            x=pd.read_csv(\"departments.csv\")\n",
    "            print(\"Your courses are showed below\",self.name)\n",
    "            (x[\"Computer Science Programme\"])\n",
    "name=input(\"Enter in your name:   \")\n",
    "level=input(\"Enter in your level:  \")\n",
    "course=input(\"Enter in your course:  \")\n",
    "compobj=Computer(name,level,course)\n",
    "compobj.display()\n",
    "engobj=Engineering(name,level,course)\n",
    "engobj.display()\n",
    "\n",
    "\n",
    "        \n",
    "            \n",
    "            "
   ]
  },
  {
   "cell_type": "markdown",
   "metadata": {},
   "source": [
    "##### Input Name\n",
    "##### INput Course\n",
    "##### INput level\n",
    "##### If level is 100:\n",
    "#####        IF Course is COmputer SCience:\n",
    "#####                       Call Computer Science method\n",
    "#####        If course is Mechanical or Electrical Engineering\n",
    "#####                        Call Engineering Method\n"
   ]
  },
  {
   "cell_type": "code",
   "execution_count": 1,
   "metadata": {},
   "outputs": [
    {
     "ename": "NameError",
     "evalue": "name 'x' is not defined",
     "output_type": "error",
     "traceback": [
      "\u001b[1;31m---------------------------------------------------------------------------\u001b[0m",
      "\u001b[1;31mNameError\u001b[0m                                 Traceback (most recent call last)",
      "\u001b[1;32m<ipython-input-1-46fde57ac625>\u001b[0m in \u001b[0;36m<module>\u001b[1;34m\u001b[0m\n\u001b[1;32m----> 1\u001b[1;33m \u001b[0mx\u001b[0m\u001b[1;33m[\u001b[0m\u001b[1;34m\"Computer Science Programme\"\u001b[0m\u001b[1;33m]\u001b[0m\u001b[1;33m\u001b[0m\u001b[1;33m\u001b[0m\u001b[0m\n\u001b[0m",
      "\u001b[1;31mNameError\u001b[0m: name 'x' is not defined"
     ]
    }
   ],
   "source": []
  },
  {
   "cell_type": "code",
   "execution_count": null,
   "metadata": {},
   "outputs": [],
   "source": []
  }
 ],
 "metadata": {
  "kernelspec": {
   "display_name": "Python 3",
   "language": "python",
   "name": "python3"
  },
  "language_info": {
   "codemirror_mode": {
    "name": "ipython",
    "version": 3
   },
   "file_extension": ".py",
   "mimetype": "text/x-python",
   "name": "python",
   "nbconvert_exporter": "python",
   "pygments_lexer": "ipython3",
   "version": "3.8.3"
  }
 },
 "nbformat": 4,
 "nbformat_minor": 4
}
